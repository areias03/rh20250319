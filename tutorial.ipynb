{
 "cells": [
  {
   "cell_type": "markdown",
   "id": "659212a2-043a-471b-a366-65296a621e21",
   "metadata": {},
   "source": [
    "# Introduction to Metabolic Modelling\n",
    "\n",
    "Author: Alexandre Castro\n",
    "***\n",
    "In this tutorial:\n",
    "\n",
    "- You will learn several concepts and methods within metabolic modelling, including:\n",
    "    - Network reconstruction;\n",
    "    - Single-model simulations and extensions;\n",
    "    - Community modelling.\n",
    "- Use different tools and methodologies for each step;\n",
    "- **You will execute pre-defined pieces of code, but you are strongly encouraged to modify the code and explore on your own. I need feedback!**"
   ]
  },
  {
   "cell_type": "markdown",
   "id": "f5daf6ff-67f3-490c-95b9-4e329ad0519d",
   "metadata": {},
   "source": [
    "## Reconstruction and model building\n",
    "\n",
    "In this part:\n",
    "\n",
    "- How a metabolic model originates from a genome;\n",
    "- The main types of reconstruction;\n",
    "- What tools to use.\n",
    "\n",
    "***\n",
    "\n",
    "According to ChatGPT, metabolic network reconstruction is:\n",
    "\n",
    "\"(...)a process where the complete set of metabolic reactions and pathways in a microorganism, tissue, or organism are reconstructed and represented in a computational model based on its genomic data. This model provides a comprehensive framework for understanding the organism's metabolic network and can be used to simulate its behavior under various conditions.\"\n",
    "\n",
    "This is a fairly accurate answer. Now, let's look at how this is accomplished."
   ]
  },
  {
   "cell_type": "markdown",
   "id": "e54f47f9-a5ef-432a-a6bc-c09d8550ac25",
   "metadata": {},
   "source": [
    "## Flux Balance Analysis\n",
    "\n",
    "In this part:\n",
    "\n",
    "- You will learn how to perform flux balance analysis using a model of the central carbon metabolism of E. coli. This is a very simple model, mostly used for educational purposes.\n",
    "- You will use the ReFramed python library for metabolic modeling. You can check the online documentation for more details.\n",
    "\n",
    "***"
   ]
  },
  {
   "cell_type": "markdown",
   "id": "7a52850f-6b03-453e-8cf0-b3f71ca6a661",
   "metadata": {},
   "source": [
    "## Community Modeling\n",
    "\n"
   ]
  },
  {
   "cell_type": "markdown",
   "id": "e4058669-316f-485e-bbb3-7ca01a0da592",
   "metadata": {},
   "source": [
    "## References"
   ]
  }
 ],
 "metadata": {
  "kernelspec": {
   "display_name": "Python 3 (ipykernel)",
   "language": "python",
   "name": "python3"
  },
  "language_info": {
   "codemirror_mode": {
    "name": "ipython",
    "version": 3
   },
   "file_extension": ".py",
   "mimetype": "text/x-python",
   "name": "python",
   "nbconvert_exporter": "python",
   "pygments_lexer": "ipython3",
   "version": "3.9.20"
  }
 },
 "nbformat": 4,
 "nbformat_minor": 5
}
